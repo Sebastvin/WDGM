{
 "cells": [
  {
   "cell_type": "markdown",
   "source": [
    "# Lab 6 - splot i flitrowanie obrazów"
   ],
   "metadata": {
    "collapsed": false
   }
  },
  {
   "cell_type": "markdown",
   "source": [
    "Filtracja obrazów – filtracja obrazów jest zaliczana do metod cyfrowego przetwarzania sygnałów. Filtracja jest operacją matematyczną na pikselach obrazu źródłowego, w wyniku której uzyskiwany jest nowy, przekształcony obraz. Filtrację określa się jako przekształcenie kontekstowe, gdyż dla wyznaczenia nowej wartości piksela obrazu docelowego potrzebna jest informacja z wielu pikseli obrazu źródłowego.\n",
    "\n",
    "Filtracja stosowana jest przeważnie jako metoda wydobycia z oryginalnego obrazu szeregu informacji w celu ich dalszej obróbki. Informacjami takimi mogą być: położenie krawędzi, pozycje rogów obiektów itp. Innym zastosowaniem filtracji jest usuwanie szumów (filtr medianowy i inne) lub rozmycie obrazu (filtry uśredniające, Gaussa). Filtrację można przeprowadzać zarówno w dziedzinie przestrzennej, jak i częstotliwościowej. Filtracje w dziedzinie przestrzennej uzyskuje się wykorzystując operacje splotu. W dziedzinie częstotliwości odpowiednikiem splotu jest operacja mnożenia transformat obrazu i filtru."
   ],
   "metadata": {
    "collapsed": false
   }
  },
  {
   "cell_type": "markdown",
   "source": [
    "![splot](image_convolution.gif \"splot\")"
   ],
   "metadata": {
    "collapsed": false
   }
  },
  {
   "cell_type": "markdown",
   "source": [
    "Wykonanie operacji splotu polega na wyznaczeniu otoczenia dla danego piksela, a następnie zastąpieniu go za pomocą następującego wyrażenia:\n"
   ],
   "metadata": {
    "collapsed": false
   }
  },
  {
   "cell_type": "markdown",
   "source": [
    "$$g(r, c) = \\omega * f(r, c) = \\sum_{dr=-a}^{a} \\sum_{dc=-b}^{b} \\omega(dr, dc) f(r - dr, c - dc)$$\n",
    "\n",
    "gdzie:\n",
    "- $f$ - obraz\n",
    "- $r, c$ - współrzędne piksela: wiersz, kolumna\n",
    "- $g$ - obraz wynikowy\n",
    "- $\\omega$ - filtr\n",
    "- $a, b$ - rozmiar filtra: $-a \\le dr \\le a$, $-b \\le dc \\le b$"
   ],
   "metadata": {
    "collapsed": false
   }
  },
  {
   "cell_type": "markdown",
   "source": [
    "W praktyce stosuje się filtry kwadratowe o rozmiarach nieparzystych, np. 3x3 px, 5x5 px, itd. Operacji filtrowania można dokonać na obrazach w skali szarości oraz na obrazach kolorowych. W tym przypadku należy filtrować każdą warstwę osobno."
   ],
   "metadata": {
    "collapsed": false
   }
  },
  {
   "cell_type": "markdown",
   "source": [
    "## Przykładowe filtry"
   ],
   "metadata": {
    "collapsed": false
   }
  },
  {
   "cell_type": "markdown",
   "source": [
    "### Filtr tożsamościowy\n",
    "\n",
    "![identity](img/identity.png \"identity\")\n",
    "\n",
    "$\\omega = \\begin{bmatrix}\n",
    "0 & 0 & 0 \\\\\n",
    "0 & 1 & 0 \\\\\n",
    "0 & 0 & 0\n",
    "\\end{bmatrix}$"
   ],
   "metadata": {
    "collapsed": false
   }
  },
  {
   "cell_type": "markdown",
   "source": [
    "### Filtr górnoprzepustowy\n",
    "\n",
    "Wyostrzanie obrazu. Filtr wzmacnia szczegóły.\n",
    "\n",
    "![identity](img/sharpen.png \"sharpen\")\n",
    "\n",
    "$\\omega = \\begin{bmatrix}\n",
    "0 & -1 & 0 \\\\\n",
    "-1 & 5 & -1 \\\\\n",
    "0 & -1 & 0\n",
    "\\end{bmatrix}$"
   ],
   "metadata": {
    "collapsed": false
   }
  },
  {
   "cell_type": "markdown",
   "source": [
    "### Filtr dolnoprzepustowy\n",
    "\n",
    "Rozmycie obrazu. Filtr uśrednia szczegoły.\n",
    "\n",
    "![identity](img/sharpen.png \"sharpen\")\n",
    "\n",
    "$\\omega = \\frac{1}{9} \\begin{bmatrix}\n",
    "1 & 1 & 1 \\\\\n",
    "1 & 1 & 1 \\\\\n",
    "1 & 1 & 1\n",
    "\\end{bmatrix}$"
   ],
   "metadata": {
    "collapsed": false
   }
  },
  {
   "cell_type": "markdown",
   "source": [
    "### Rozmycie Gaussowskie\n",
    "\n",
    "#### Wersja 3x3 px\n",
    "\n",
    "![identity](img/gaussian_blur_3_3.png \"gauss_3_3\")\n",
    "\n",
    "$\\omega = \\frac{1}{16} \\begin{bmatrix}\n",
    "1 & 2 & 1 \\\\\n",
    "2 & 4 & 2 \\\\\n",
    "1 & 2 & 1\n",
    "\\end{bmatrix}$\n",
    "\n",
    "#### Wersja 5x5 px\n",
    "\n",
    "![identity](img/gaussian_blur_5_5.png \"gauss_5_5\")\n",
    "\n",
    "$\\omega = \\frac{1}{256} \\begin{bmatrix}\n",
    "1 & 4 & 6 & 4 & 1 \\\\\n",
    "4 & 16 & 24 & 16 & 4 \\\\\n",
    "6 & 24 & 36 & 24 & 6 \\\\\n",
    "4 & 16 & 24 & 16 & 4 \\\\\n",
    "1 & 4 & 6 & 4 & 1\n",
    "\\end{bmatrix}$"
   ],
   "metadata": {
    "collapsed": false
   }
  },
  {
   "cell_type": "markdown",
   "source": [
    "### Operator Sobela - detekcja krawędzi\n",
    "\n",
    "Obraz oryginalny:\n",
    "![sudoku](img/sudoku.jpg \"sudoku\")\n",
    "\n",
    "$\\omega_{0^{\\circ}} = \\begin{bmatrix}\n",
    "-1 & 0 & 1 \\\\\n",
    "-2 & 0 & 2 \\\\\n",
    "-1 & 0 & 1\n",
    "\\end{bmatrix}$\n",
    "\n",
    "\n",
    "${\\omega_{45^{\\circ}} = \\begin{bmatrix}\n",
    "0 & 1 & 2 \\\\\n",
    "-1 & 0 & 1 \\\\\n",
    "-2 & -1 & 0\n",
    "\\end{bmatrix}$\n",
    "\n",
    "\n",
    "${\\omega_{90^{\\circ}} = \\begin{bmatrix}\n",
    "1 & 2 & 1 \\\\\n",
    "0 & 0 & 0 \\\\\n",
    "-1 & -2 & -1\n",
    "\\end{bmatrix}$\n",
    "\n",
    "\n",
    "${\\omega_{135^{\\circ}} = \\begin{bmatrix}\n",
    "2 & 1 & 0 \\\\\n",
    "1 & 0 & -1 \\\\\n",
    "0 & -1 & -2\n",
    "\\end{bmatrix}$\n",
    "\n",
    "\n",
    "![sobel_0](img/sobel_parts.png \"sobel_parts\")\n",
    "\n",
    "Krawędzie wykryte we wszystkich kierunkach można połączyć sumując obrazy:\n",
    "\n",
    "![sobel_full](img/sobel_full.png \"sobel_full\")"
   ],
   "metadata": {
    "collapsed": false
   }
  },
  {
   "cell_type": "markdown",
   "source": [
    "## Zadania\n",
    "\n",
    "Utworzyć klasy wg schematu:"
   ],
   "metadata": {
    "collapsed": false
   }
  },
  {
   "cell_type": "code",
   "execution_count": null,
   "outputs": [],
   "source": [
    "from typing import Optional"
   ],
   "metadata": {
    "collapsed": false
   }
  },
  {
   "cell_type": "code",
   "execution_count": null,
   "metadata": {
    "collapsed": true
   },
   "outputs": [],
   "source": [
    "class ImageFiltration:\n",
    "    def conv_2d(self, image: BaseImage, kernel: np.ndarray, prefix: Optional[float] = None) -> BaseImage:\n",
    "        \"\"\"\n",
    "        kernel: filtr w postaci tablicy numpy\n",
    "        prefix: przedrostek filtra, o ile istnieje; Optional - forma poprawna obiektowo, lub domyslna wartosc = 1 - optymalne arytmetycznie\n",
    "        metoda zwroci obraz po procesie filtrowania\n",
    "        \"\"\"\n",
    "        pass"
   ]
  },
  {
   "cell_type": "code",
   "execution_count": null,
   "outputs": [],
   "source": [
    "class Image(GrayScaleTransform, ImageComparison, ImageAligning, ImageFiltration):\n",
    "    \"\"\"\n",
    "    interfejs glowny biblioteki c.d.\n",
    "    \"\"\"\n",
    "    pass"
   ],
   "metadata": {
    "collapsed": false
   }
  }
 ],
 "metadata": {
  "kernelspec": {
   "display_name": "Python 3",
   "language": "python",
   "name": "python3"
  },
  "language_info": {
   "codemirror_mode": {
    "name": "ipython",
    "version": 2
   },
   "file_extension": ".py",
   "mimetype": "text/x-python",
   "name": "python",
   "nbconvert_exporter": "python",
   "pygments_lexer": "ipython2",
   "version": "2.7.6"
  }
 },
 "nbformat": 4,
 "nbformat_minor": 0
}
