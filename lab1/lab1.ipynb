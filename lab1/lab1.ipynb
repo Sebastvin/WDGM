{
 "cells": [
  {
   "cell_type": "markdown",
   "metadata": {
    "collapsed": true
   },
   "source": [
    "# Lab 1 - biblioteka NumPy\n",
    "\n",
    "NumPy (https://numpy.org) to jedna z najpopularniejszych bibliotek języka Python\n",
    "przeznaczona do obliczeń numerycznych na tensorach w formie tablic.\n",
    "\n",
    "## Instalacja\n",
    "\n",
    "W celu instalacji pakietu NumPy należy wpisać\n",
    "w terminalu polecenie **pip install numpy**\n",
    "\n",
    "## Import biblioteki\n",
    "\n",
    "Bibliotekę NumPy, podobnie jak każdy inny zewnętrzny pakiet, należy zaimportować.\n",
    "Służy do tego instrukcja import. Dobrą praktyką jest importowanie biblioteki NumPy z aliasem np,\n",
    "co można zapisać następująco:"
   ]
  },
  {
   "cell_type": "code",
   "execution_count": 3,
   "outputs": [],
   "source": [
    "import numpy as np"
   ],
   "metadata": {
    "collapsed": false
   }
  },
  {
   "cell_type": "markdown",
   "source": [
    "## Tworzenie nowych tablic na podstawie list\n",
    "\n",
    "Najprostszą metodą utworzenia tablicy NumPy jest przekazanie listy wartości do funkcji array z pakietu NumPy:"
   ],
   "metadata": {
    "collapsed": false
   }
  },
  {
   "cell_type": "code",
   "execution_count": 4,
   "outputs": [
    {
     "name": "stdout",
     "output_type": "stream",
     "text": [
      "[1 2 3 4 5]\n",
      "<class 'numpy.ndarray'>\n"
     ]
    }
   ],
   "source": [
    "arr = np.array([1, 2, 3, 4, 5])\n",
    "\n",
    "print(arr)\n",
    "print(type(arr))"
   ],
   "metadata": {
    "collapsed": false
   }
  },
  {
   "cell_type": "markdown",
   "source": [
    "W podobny sposób można tworzyć również tablice wielowymiarowe (tensory).\n",
    "W tym celu należy przekazać do funkcji array z pakietu NumPy listę wielowymiarową."
   ],
   "metadata": {
    "collapsed": false
   }
  },
  {
   "cell_type": "code",
   "execution_count": 5,
   "outputs": [
    {
     "data": {
      "text/plain": "array([[ 1,  2,  3,  4,  5],\n       [ 6,  7,  8,  9, 10],\n       [11, 12, 13, 14, 15]])"
     },
     "execution_count": 5,
     "metadata": {},
     "output_type": "execute_result"
    }
   ],
   "source": [
    "arr_2d = np.array([\n",
    "    [1, 2, 3, 4, 5],\n",
    "    [6, 7, 8, 9, 10],\n",
    "    [11, 12, 13, 14, 15],\n",
    "])\n",
    "\n",
    "arr_2d"
   ],
   "metadata": {
    "collapsed": false
   }
  },
  {
   "cell_type": "markdown",
   "source": [
    "## Typy danych w NumPy\n",
    "\n",
    "Typy danych w bibliotece NumPy definiują charakter wartości przechowywanych w tablicach.\n",
    "Typ może zostać ustalony automatycznie bądź wskazany manualnie (w celu optymalizacji pamięci) za pomocą parametru dtype."
   ],
   "metadata": {
    "collapsed": false
   }
  },
  {
   "cell_type": "code",
   "execution_count": 6,
   "outputs": [
    {
     "data": {
      "text/plain": "array([1, 2, 3, 4, 5], dtype=int32)"
     },
     "execution_count": 6,
     "metadata": {},
     "output_type": "execute_result"
    }
   ],
   "source": [
    "arr_int = np.array([1, 2, 3, 4, 5], dtype='i')\n",
    "\n",
    "arr_int"
   ],
   "metadata": {
    "collapsed": false
   }
  },
  {
   "cell_type": "markdown",
   "source": [
    "Typ wartości w tablicy można sprawdzić za pomocą atrybutu dtype."
   ],
   "metadata": {
    "collapsed": false
   }
  },
  {
   "cell_type": "code",
   "execution_count": 7,
   "outputs": [
    {
     "data": {
      "text/plain": "dtype('int32')"
     },
     "execution_count": 7,
     "metadata": {},
     "output_type": "execute_result"
    }
   ],
   "source": [
    "arr_int.dtype\n"
   ],
   "metadata": {
    "collapsed": false
   }
  },
  {
   "cell_type": "markdown",
   "source": [
    "### Podstawowe typy danych w NumPy\n",
    "\n",
    "Wyróżniany następujące podstawowe typy danych występujące w bibliotece NumPy\n",
    "\n",
    "- i - integer\n",
    "- b - boolean\n",
    "- u - unsigned integer\n",
    "- f - float\n",
    "- c - complex float\n",
    "- m - timedelta\n",
    "- M - datetime\n",
    "- O - object\n",
    "- S - string\n",
    "- U - unicode string\n",
    "- V - fixed chunk of memory for other type (void)\n",
    "\n",
    "### Złożone typy danych w NumPy\n",
    "\n",
    "W typie danych można również wskazać ilość zarezerwowanego miejsca na wartość.\n",
    "Przykładowo, \"i4\" oznacza typ integer (całkowitoliczbowy) 4-bajtowy."
   ],
   "metadata": {
    "collapsed": false
   }
  },
  {
   "cell_type": "code",
   "execution_count": 8,
   "outputs": [
    {
     "name": "stdout",
     "output_type": "stream",
     "text": [
      "[1 2 3 4 5]\n",
      "int32\n"
     ]
    }
   ],
   "source": [
    "arr = np.array([1, 2, 3, 4, 5], dtype='i4')\n",
    "\n",
    "print(arr)\n",
    "print(arr.dtype)"
   ],
   "metadata": {
    "collapsed": false
   }
  },
  {
   "cell_type": "markdown",
   "source": [
    "## Tworzenie tablic przy użyciu funkcji numpy\n",
    "\n",
    "Pakiet NumPy umożliwia również tworzenie tablic wypełnionych wartościami.\n",
    "\n",
    "Funkcja zeros służy do tworzenia tablic o wskazanym rozmiarze, wypełnionych zerami:"
   ],
   "metadata": {
    "collapsed": false
   }
  },
  {
   "cell_type": "code",
   "execution_count": 9,
   "outputs": [
    {
     "data": {
      "text/plain": "array([0, 0, 0, 0, 0, 0, 0, 0, 0, 0], dtype=int32)"
     },
     "execution_count": 9,
     "metadata": {},
     "output_type": "execute_result"
    }
   ],
   "source": [
    "np.zeros(10, dtype='i')"
   ],
   "metadata": {
    "collapsed": false
   }
  },
  {
   "cell_type": "markdown",
   "source": [
    "Funkcji zeros można również użyć do tworzenia tablic wielowymiarowych:"
   ],
   "metadata": {
    "collapsed": false
   }
  },
  {
   "cell_type": "code",
   "execution_count": 10,
   "outputs": [
    {
     "data": {
      "text/plain": "array([[0., 0., 0., 0., 0.],\n       [0., 0., 0., 0., 0.],\n       [0., 0., 0., 0., 0.],\n       [0., 0., 0., 0., 0.],\n       [0., 0., 0., 0., 0.]])"
     },
     "execution_count": 10,
     "metadata": {},
     "output_type": "execute_result"
    }
   ],
   "source": [
    "np.zeros((5, 5))"
   ],
   "metadata": {
    "collapsed": false
   }
  },
  {
   "cell_type": "markdown",
   "source": [
    "Bardzo podobne zastosowanie ma funkcja ones, która tworzy tablice wypełnione jedynkami:"
   ],
   "metadata": {
    "collapsed": false
   }
  },
  {
   "cell_type": "code",
   "execution_count": 11,
   "outputs": [
    {
     "data": {
      "text/plain": "array([[1., 1., 1.],\n       [1., 1., 1.],\n       [1., 1., 1.]])"
     },
     "execution_count": 11,
     "metadata": {},
     "output_type": "execute_result"
    }
   ],
   "source": [
    "np.ones((3, 3))"
   ],
   "metadata": {
    "collapsed": false
   }
  },
  {
   "cell_type": "markdown",
   "source": [
    "Do stworzenia przestrzeni liniowej o wskazanym zakresie i liczbie elementów należy użyć funkcji linspace"
   ],
   "metadata": {
    "collapsed": false
   }
  },
  {
   "cell_type": "code",
   "execution_count": 12,
   "outputs": [
    {
     "data": {
      "text/plain": "array([ 0.,  2.,  4.,  6.,  8., 10.])"
     },
     "execution_count": 12,
     "metadata": {},
     "output_type": "execute_result"
    }
   ],
   "source": [
    "np.linspace(0, 10, 6)"
   ],
   "metadata": {
    "collapsed": false
   }
  },
  {
   "cell_type": "markdown",
   "source": [
    "Funkcja eye utworzy macierz jednostkową (kwadratową) o wskazanym rozmiarze:"
   ],
   "metadata": {
    "collapsed": false
   }
  },
  {
   "cell_type": "code",
   "execution_count": 13,
   "outputs": [
    {
     "data": {
      "text/plain": "array([[1., 0., 0., 0., 0.],\n       [0., 1., 0., 0., 0.],\n       [0., 0., 1., 0., 0.],\n       [0., 0., 0., 1., 0.],\n       [0., 0., 0., 0., 1.]])"
     },
     "execution_count": 13,
     "metadata": {},
     "output_type": "execute_result"
    }
   ],
   "source": [
    "np.eye(5)"
   ],
   "metadata": {
    "collapsed": false
   }
  },
  {
   "cell_type": "markdown",
   "source": [
    "Za pomocą funkcji rand pochodzącej z modułu random w pakiecie NumPy\n",
    "można wygenerować tensor o wskazanym rozmiarze zawierający wartości losowe\n",
    "pochodzące z rozkładu normalnego jednorodnego, w przedziale [0-1):"
   ],
   "metadata": {
    "collapsed": false
   }
  },
  {
   "cell_type": "code",
   "execution_count": 14,
   "outputs": [
    {
     "data": {
      "text/plain": "array([0.06776932, 0.7611549 , 0.37923355, 0.11677356, 0.8588277 ])"
     },
     "execution_count": 14,
     "metadata": {},
     "output_type": "execute_result"
    }
   ],
   "source": [
    "np.random.rand(5)\n"
   ],
   "metadata": {
    "collapsed": false
   }
  },
  {
   "cell_type": "code",
   "execution_count": 15,
   "outputs": [
    {
     "data": {
      "text/plain": "array([[0.57793401, 0.55913358],\n       [0.73059754, 0.809417  ],\n       [0.71326697, 0.55260254]])"
     },
     "execution_count": 15,
     "metadata": {},
     "output_type": "execute_result"
    }
   ],
   "source": [
    "np.random.rand(3, 2)"
   ],
   "metadata": {
    "collapsed": false
   }
  },
  {
   "cell_type": "markdown",
   "source": [
    "Funkcja randn pochodząca z modułu random w pakiecie NumPy ma podobne zastosowanie do funkcji rand.\n",
    "Różnica między nimi polega na generowaniu wartości losowych pochodzących z rozkładu normalnego:"
   ],
   "metadata": {
    "collapsed": false
   }
  },
  {
   "cell_type": "code",
   "execution_count": 16,
   "outputs": [
    {
     "data": {
      "text/plain": "array([[ 1.11244161,  1.76990654, -1.5821982 ,  0.72993805, -0.81371237],\n       [-0.79454934,  0.69663145,  1.38312112, -0.05436593, -1.03625577],\n       [-0.34795293, -0.84789399, -1.13722568,  0.75970198, -0.50499415],\n       [ 1.87599717,  0.49381141, -0.18172553,  1.30819631,  0.32262407],\n       [ 0.51908122, -0.74579121,  0.76406798, -0.05386557,  1.29445669]])"
     },
     "execution_count": 16,
     "metadata": {},
     "output_type": "execute_result"
    }
   ],
   "source": [
    "np.random.randn(5, 5)\n"
   ],
   "metadata": {
    "collapsed": false
   }
  },
  {
   "cell_type": "markdown",
   "source": [
    "Funkcja randint pochodząca z modułu random w pakiecie NumPy ma również podobne zastosowanie do swoich poprzedniczek.\n",
    "Różnica polega na generowaniu wartości losowych z wyznaczonych przedziałów:"
   ],
   "metadata": {
    "collapsed": false
   }
  },
  {
   "cell_type": "code",
   "execution_count": 17,
   "outputs": [
    {
     "data": {
      "text/plain": "array([[ 8, 38, 20, 12, 22, 30],\n       [17, 26,  9, 23, 47, 40],\n       [14, 16, 47, 33, 21,  5]])"
     },
     "execution_count": 17,
     "metadata": {},
     "output_type": "execute_result"
    }
   ],
   "source": [
    "np.random.randint(1, 49, (3, 6))"
   ],
   "metadata": {
    "collapsed": false
   }
  },
  {
   "cell_type": "markdown",
   "source": [
    "## Indeksowanie danych w tablicach\n",
    "\n",
    "Biblioteka NumPy umożliwia wygodne wybieranie wartości znajdujących się w tablicach za pomocą wskazania ich pozycji."
   ],
   "metadata": {
    "collapsed": false
   }
  },
  {
   "cell_type": "code",
   "execution_count": 18,
   "outputs": [
    {
     "data": {
      "text/plain": "array([[ 5, 10, 15],\n       [20, 25, 30],\n       [35, 40, 45]])"
     },
     "execution_count": 18,
     "metadata": {},
     "output_type": "execute_result"
    }
   ],
   "source": [
    "arr_2d = np.array(([5,10,15],[20,25,30],[35,40,45]))\n",
    "\n",
    "arr_2d"
   ],
   "metadata": {
    "collapsed": false
   }
  },
  {
   "cell_type": "markdown",
   "source": [
    "Wiersz z takiej tablicy można pobrać wskazując jego indeks:"
   ],
   "metadata": {
    "collapsed": false
   }
  },
  {
   "cell_type": "code",
   "execution_count": 19,
   "outputs": [
    {
     "data": {
      "text/plain": "array([ 5, 10, 15])"
     },
     "execution_count": 19,
     "metadata": {},
     "output_type": "execute_result"
    }
   ],
   "source": [
    "arr_2d[0]"
   ],
   "metadata": {
    "collapsed": false
   }
  },
  {
   "cell_type": "markdown",
   "source": [
    "Wartośc skalarną można pobrać wskazując jej konkretną pozycję w formacie [wiersz, kolumna]:"
   ],
   "metadata": {
    "collapsed": false
   }
  },
  {
   "cell_type": "code",
   "execution_count": 20,
   "outputs": [
    {
     "data": {
      "text/plain": "30"
     },
     "execution_count": 20,
     "metadata": {},
     "output_type": "execute_result"
    }
   ],
   "source": [
    "arr_2d[1, 2]\n"
   ],
   "metadata": {
    "collapsed": false
   }
  },
  {
   "cell_type": "markdown",
   "source": [
    "Kolumnę z tablicy można pobrać wskazując wszystkie wiersze za pomocą znaku : oraz indeks kolumny w następującym formacie [:, col]:"
   ],
   "metadata": {
    "collapsed": false
   }
  },
  {
   "cell_type": "code",
   "execution_count": 21,
   "outputs": [
    {
     "data": {
      "text/plain": "array([10, 25, 40])"
     },
     "execution_count": 21,
     "metadata": {},
     "output_type": "execute_result"
    }
   ],
   "source": [
    "arr_2d[:, 1]"
   ],
   "metadata": {
    "collapsed": false
   }
  },
  {
   "cell_type": "markdown",
   "source": [
    "Za pomocą indeksu -1 można pobrać ostatnią wartość we wskazanym wymiarze:"
   ],
   "metadata": {
    "collapsed": false
   }
  },
  {
   "cell_type": "code",
   "execution_count": 22,
   "outputs": [
    {
     "data": {
      "text/plain": "45"
     },
     "execution_count": 22,
     "metadata": {},
     "output_type": "execute_result"
    }
   ],
   "source": [
    "arr_2d[-1, -1]"
   ],
   "metadata": {
    "collapsed": false
   }
  },
  {
   "cell_type": "markdown",
   "source": [
    "Biblioteka NumPy umożliwia również pobieranie podtablic za pomocą zakresów indeksów wskazanych w konkretnych wymiarach:"
   ],
   "metadata": {
    "collapsed": false
   }
  },
  {
   "cell_type": "code",
   "execution_count": 23,
   "outputs": [
    {
     "data": {
      "text/plain": "array([[88, 88, 87, 46, 63],\n       [62, 84, 77, 78, 64],\n       [ 5, 29, 66, 85, 14],\n       [64, 76, 81, 56, 94],\n       [86,  7, 79, 61, 81]])"
     },
     "execution_count": 23,
     "metadata": {},
     "output_type": "execute_result"
    }
   ],
   "source": [
    "matrix = np.random.randint(1, 100, (5, 5))\n",
    "\n",
    "matrix"
   ],
   "metadata": {
    "collapsed": false
   }
  },
  {
   "cell_type": "code",
   "execution_count": 24,
   "outputs": [
    {
     "data": {
      "text/plain": "array([[84, 77, 78],\n       [29, 66, 85],\n       [76, 81, 56]])"
     },
     "execution_count": 24,
     "metadata": {},
     "output_type": "execute_result"
    }
   ],
   "source": [
    "matrix[1:4, 1:4]"
   ],
   "metadata": {
    "collapsed": false
   }
  },
  {
   "cell_type": "markdown",
   "source": [
    "## Kształt tablicy i jego modyfikacja\n",
    "\n",
    "Kształt tablicy można sprawdzić za pomocą atrybutu shape:"
   ],
   "metadata": {
    "collapsed": false
   }
  },
  {
   "cell_type": "code",
   "execution_count": 25,
   "outputs": [
    {
     "name": "stdout",
     "output_type": "stream",
     "text": [
      "[[1. 1. 1. 1.]\n",
      " [1. 1. 1. 1.]\n",
      " [1. 1. 1. 1.]\n",
      " [1. 1. 1. 1.]\n",
      " [1. 1. 1. 1.]]\n"
     ]
    },
    {
     "data": {
      "text/plain": "(5, 4)"
     },
     "execution_count": 25,
     "metadata": {},
     "output_type": "execute_result"
    }
   ],
   "source": [
    "arr = np.ones((5, 4))\n",
    "\n",
    "print(arr)\n",
    "\n",
    "arr.shape"
   ],
   "metadata": {
    "collapsed": false
   }
  },
  {
   "cell_type": "markdown",
   "source": [
    "Wynik (5, 4) informuje nas o 5 wierszach i 4 kolumnach macierzy.\n",
    "\n",
    "Za pomocą funkcji reshape można zmodyfikować kształt tablicy."
   ],
   "metadata": {
    "collapsed": false
   }
  },
  {
   "cell_type": "code",
   "execution_count": 26,
   "outputs": [
    {
     "data": {
      "text/plain": "array([1., 1., 1., 1., 1., 1., 1., 1., 1., 1., 1., 1., 1., 1., 1., 1., 1.,\n       1., 1., 1., 1., 1., 1., 1., 1.])"
     },
     "execution_count": 26,
     "metadata": {},
     "output_type": "execute_result"
    }
   ],
   "source": [
    "arr = np.ones(25)\n",
    "\n",
    "arr"
   ],
   "metadata": {
    "collapsed": false
   }
  },
  {
   "cell_type": "code",
   "execution_count": 27,
   "outputs": [
    {
     "data": {
      "text/plain": "array([[1., 1., 1., 1., 1.],\n       [1., 1., 1., 1., 1.],\n       [1., 1., 1., 1., 1.],\n       [1., 1., 1., 1., 1.],\n       [1., 1., 1., 1., 1.]])"
     },
     "execution_count": 27,
     "metadata": {},
     "output_type": "execute_result"
    }
   ],
   "source": [
    "arr.reshape((5, 5))"
   ],
   "metadata": {
    "collapsed": false
   }
  },
  {
   "cell_type": "markdown",
   "source": [
    "## Wyszukiwanie w tablicach wartości największych i najmniejszych"
   ],
   "metadata": {
    "collapsed": false
   }
  },
  {
   "cell_type": "code",
   "execution_count": 28,
   "outputs": [
    {
     "data": {
      "text/plain": "array([50, 75, 40, 75, 74, 62, 48, 10, 19, 62])"
     },
     "execution_count": 28,
     "metadata": {},
     "output_type": "execute_result"
    }
   ],
   "source": [
    "arr = np.random.randint(1, 100, 10)\n",
    "\n",
    "arr"
   ],
   "metadata": {
    "collapsed": false
   }
  },
  {
   "cell_type": "markdown",
   "source": [
    "Za pomocą metody min można znaleźć wartość największą:"
   ],
   "metadata": {
    "collapsed": false
   }
  },
  {
   "cell_type": "code",
   "execution_count": 29,
   "outputs": [
    {
     "data": {
      "text/plain": "10"
     },
     "execution_count": 29,
     "metadata": {},
     "output_type": "execute_result"
    }
   ],
   "source": [
    "arr.min()\n"
   ],
   "metadata": {
    "collapsed": false
   }
  },
  {
   "cell_type": "markdown",
   "source": [
    "Wartość największą można znaleźć za pomocą metody max:"
   ],
   "metadata": {
    "collapsed": false
   }
  },
  {
   "cell_type": "code",
   "execution_count": 30,
   "outputs": [
    {
     "data": {
      "text/plain": "75"
     },
     "execution_count": 30,
     "metadata": {},
     "output_type": "execute_result"
    }
   ],
   "source": [
    "arr.max()"
   ],
   "metadata": {
    "collapsed": false
   }
  },
  {
   "cell_type": "markdown",
   "source": [
    "Pozycję elementu o największej lub najmniejszej wartości można znaleźć za pomocą metod argmax i argmin:"
   ],
   "metadata": {
    "collapsed": false
   }
  },
  {
   "cell_type": "code",
   "execution_count": 31,
   "outputs": [
    {
     "name": "stdout",
     "output_type": "stream",
     "text": [
      "wartosc najwieksza: 75, pozycja wartosci najwiekszej: 1\n",
      "wartosc najmniejsza: 10, pozycja wartosci najmniejszej: 7\n"
     ]
    }
   ],
   "source": [
    "print(f'wartosc najwieksza: {arr.max()}, pozycja wartosci najwiekszej: {arr.argmax()}')\n",
    "print(f'wartosc najmniejsza: {arr.min()}, pozycja wartosci najmniejszej: {arr.argmin()}')"
   ],
   "metadata": {
    "collapsed": false
   }
  },
  {
   "cell_type": "markdown",
   "source": [
    "## Funkcje matematyczny w NumPy\n",
    "\n",
    "Pakiet NumPy dostarcza wiele funkcji matematycznych dokonujących operacji na wszystkich elementach tablic."
   ],
   "metadata": {
    "collapsed": false
   }
  },
  {
   "cell_type": "code",
   "execution_count": 32,
   "outputs": [
    {
     "data": {
      "text/plain": "array([ 0,  1,  2,  3,  4,  5,  6,  7,  8,  9, 10])"
     },
     "execution_count": 32,
     "metadata": {},
     "output_type": "execute_result"
    }
   ],
   "source": [
    "arr = np.arange(11)\n",
    "\n",
    "arr"
   ],
   "metadata": {
    "collapsed": false
   }
  },
  {
   "cell_type": "markdown",
   "source": [
    "Za pomocą funkcji sqrt można obliczyć pierwiastki kwadratowe wszystkich elementów znajdujących się w tablicy:"
   ],
   "metadata": {
    "collapsed": false
   }
  },
  {
   "cell_type": "code",
   "execution_count": 33,
   "outputs": [
    {
     "data": {
      "text/plain": "array([0.        , 1.        , 1.41421356, 1.73205081, 2.        ,\n       2.23606798, 2.44948974, 2.64575131, 2.82842712, 3.        ,\n       3.16227766])"
     },
     "execution_count": 33,
     "metadata": {},
     "output_type": "execute_result"
    }
   ],
   "source": [
    "np.sqrt(arr)\n"
   ],
   "metadata": {
    "collapsed": false
   }
  },
  {
   "cell_type": "markdown",
   "source": [
    "Za pomocą funkcji exp można wyznaczyć wartość wyrażenia $$e ^ x$$ gdzie x to każdy kolejny element znajdujący się w tablicy:"
   ],
   "metadata": {
    "collapsed": false
   }
  },
  {
   "cell_type": "code",
   "execution_count": 34,
   "outputs": [
    {
     "data": {
      "text/plain": "array([1.00000000e+00, 2.71828183e+00, 7.38905610e+00, 2.00855369e+01,\n       5.45981500e+01, 1.48413159e+02, 4.03428793e+02, 1.09663316e+03,\n       2.98095799e+03, 8.10308393e+03, 2.20264658e+04])"
     },
     "execution_count": 34,
     "metadata": {},
     "output_type": "execute_result"
    }
   ],
   "source": [
    "np.exp(arr)\n"
   ],
   "metadata": {
    "collapsed": false
   }
  },
  {
   "cell_type": "markdown",
   "source": [
    "## Arytmetyka i algebra tablic\n",
    "\n",
    "Pakiet NumPy umożliwia również wygodne dokonywanie działań arytmetycznych oraz algebraicznych na tablicach:"
   ],
   "metadata": {
    "collapsed": false
   }
  },
  {
   "cell_type": "code",
   "execution_count": 35,
   "outputs": [
    {
     "data": {
      "text/plain": "(array([[4, 6, 2],\n        [8, 2, 9],\n        [9, 9, 7]]),\n array([[3, 1, 6],\n        [9, 1, 2],\n        [3, 8, 7]]))"
     },
     "execution_count": 35,
     "metadata": {},
     "output_type": "execute_result"
    }
   ],
   "source": [
    "arr0 = np.random.randint(1, 10, (3, 3))\n",
    "arr1 = np.random.randint(1, 10, (3, 3))\n",
    "\n",
    "arr0, arr1"
   ],
   "metadata": {
    "collapsed": false
   }
  },
  {
   "cell_type": "markdown",
   "source": [
    "Działań arytmetycznych na tablicach można dokonać za pomocą klasycznych operatorów arytmetycznych:"
   ],
   "metadata": {
    "collapsed": false
   }
  },
  {
   "cell_type": "code",
   "execution_count": 36,
   "outputs": [
    {
     "data": {
      "text/plain": "array([[ 7,  7,  8],\n       [17,  3, 11],\n       [12, 17, 14]])"
     },
     "execution_count": 36,
     "metadata": {},
     "output_type": "execute_result"
    }
   ],
   "source": [
    "arr0 + arr1"
   ],
   "metadata": {
    "collapsed": false
   }
  },
  {
   "cell_type": "code",
   "execution_count": 37,
   "outputs": [
    {
     "data": {
      "text/plain": "array([[ 1,  5, -4],\n       [-1,  1,  7],\n       [ 6,  1,  0]])"
     },
     "execution_count": 37,
     "metadata": {},
     "output_type": "execute_result"
    }
   ],
   "source": [
    "arr0 - arr1"
   ],
   "metadata": {
    "collapsed": false
   }
  },
  {
   "cell_type": "code",
   "execution_count": 38,
   "outputs": [
    {
     "data": {
      "text/plain": "array([[12,  6, 12],\n       [72,  2, 18],\n       [27, 72, 49]])"
     },
     "execution_count": 38,
     "metadata": {},
     "output_type": "execute_result"
    }
   ],
   "source": [
    "arr0 * arr1"
   ],
   "metadata": {
    "collapsed": false
   }
  },
  {
   "cell_type": "code",
   "execution_count": 39,
   "outputs": [
    {
     "data": {
      "text/plain": "array([[16, 36,  4],\n       [64,  4, 81],\n       [81, 81, 49]])"
     },
     "execution_count": 39,
     "metadata": {},
     "output_type": "execute_result"
    }
   ],
   "source": [
    "arr0 ** 2"
   ],
   "metadata": {
    "collapsed": false
   }
  },
  {
   "cell_type": "markdown",
   "source": [
    "Pakiet NumPy udostępnia również interfejs do dokonywania operacji algebraicznych na tensorach.\n",
    "\n",
    "Do wyznaczenia iloczynu skalarnego dwóch tensorów służy metoda dot:"
   ],
   "metadata": {
    "collapsed": false
   }
  },
  {
   "cell_type": "code",
   "execution_count": 40,
   "outputs": [
    {
     "data": {
      "text/plain": "array([[ 72,  26,  50],\n       [ 69,  82, 115],\n       [129,  74, 121]])"
     },
     "execution_count": 40,
     "metadata": {},
     "output_type": "execute_result"
    }
   ],
   "source": [
    "arr0.dot(arr1)\n"
   ],
   "metadata": {
    "collapsed": false
   }
  },
  {
   "cell_type": "code",
   "execution_count": 41,
   "outputs": [
    {
     "data": {
      "text/plain": "46"
     },
     "execution_count": 41,
     "metadata": {},
     "output_type": "execute_result"
    }
   ],
   "source": [
    "arr0[0].dot(arr1[1])\n"
   ],
   "metadata": {
    "collapsed": false
   }
  },
  {
   "cell_type": "markdown",
   "source": [
    "## Zadania\n",
    "\n",
    "1. Utworzyć tablicę zawierającą 50 piątek\n",
    "2. Utworzyć tablicę o rozmiarze 5x5 z wartościami od 1 do 25\n",
    "3. Utworzyć tablicę tablicę liczb parzystych od 10 do 50\n",
    "4. Utworzyć macierz, w której na przekątnej znajdą się wartości równe 8, a pozostałe będą wynosiły 0\n",
    "5. Utworzyć tablicę o rozmiarze 10x10 z wartościami zwiększającymi się o 0.01\n",
    "6. Utworzyć przestrzeń liniową 50 wartości z zakresu 0-1\n",
    "7. Wybrać podtablicę 12-elementową, z tablicy utworzonej w zadaniu 2, z wartościami w zakresie 12-25\n",
    "8. Wybrać 3 pierwsze elementy z ostatniej kolumny tablicy utworzonej w zadaniu 2, a następnie ułożyć z nich kolumnę\n",
    "9. Wyznaczyć sumę wartości elementów znajdujących się w dwóch ostatnich wierszach macierzy utworzonej w zadaniu 2\n",
    "10. Przygotować skrypt, który stworzy tensor zawierający losowe wartości całkowite, losowym wymiarze i losowym rozmiarze każdego z wymiarów"
   ],
   "metadata": {
    "collapsed": false
   }
  },
  {
   "cell_type": "code",
   "execution_count": 41,
   "outputs": [],
   "source": [],
   "metadata": {
    "collapsed": false
   }
  }
 ],
 "metadata": {
  "kernelspec": {
   "display_name": "Python 3",
   "language": "python",
   "name": "python3"
  },
  "language_info": {
   "codemirror_mode": {
    "name": "ipython",
    "version": 2
   },
   "file_extension": ".py",
   "mimetype": "text/x-python",
   "name": "python",
   "nbconvert_exporter": "python",
   "pygments_lexer": "ipython2",
   "version": "2.7.6"
  }
 },
 "nbformat": 4,
 "nbformat_minor": 0
}
