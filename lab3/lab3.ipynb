{
 "cells": [
  {
   "cell_type": "markdown",
   "source": [
    "# Lab 3 - odcienie szarości i sepia"
   ],
   "metadata": {
    "collapsed": false
   }
  },
  {
   "cell_type": "markdown",
   "source": [
    "## Odcienie szarości\n",
    "\n",
    "Obrazy w odcieniach szarości reprezentowane są za pomocą tensora 2-wymiarowego, gdzie każdy piksel jest nasycony w zakresie wartości [0-255]."
   ],
   "metadata": {
    "collapsed": false
   }
  },
  {
   "cell_type": "markdown",
   "source": [
    "![lena_grayscale](img/grayscale.jpg \"Obraz 2-wymiarowy w skali szarości\")"
   ],
   "metadata": {
    "collapsed": false
   }
  },
  {
   "cell_type": "markdown",
   "source": [
    "Konwersję obrazu reprezentowanego za pomocą modelu barw RGB do skali szarości można przeprowadzić następująco. Niech każdy piksel obrazu oryginalnego $R, G, B = f(r, c)$. Wówczas każdy piksel w obrazie wynikowym w skali szarości  będzie wynosił $g(r, c) = (R + G + B) / 3$. W związku z tym transformacja obrazu kolorowego do obrazu w skali szarości polega jedynie na uśrednieniu wartości każdego piksela kolorowego z oryginalnego obrazu reprezentowanego w formacie tensora 3-wymiarowego do tensora 2-wymiarowego."
   ],
   "metadata": {
    "collapsed": false
   }
  },
  {
   "cell_type": "markdown",
   "source": [
    "Istnieje również możliwość uzyskania obrazu w skali szarości o wyższym kontraście, co wpływa na większą wyrazistość obrazu. Należy w tym celu zastosować średnią ważoną dla kanałów RGB o następujących współczynnikach: 0.299, 0.587 oraz 0.114."
   ],
   "metadata": {
    "collapsed": false
   }
  },
  {
   "cell_type": "markdown",
   "source": [
    "## Sepia\n",
    "\n",
    "Sepia jest jedną z technik barwienia odbitek fotograficznych, stosowaną gaównie w celu zwiększenia trwałości odbitek. Odbitka stonowana w ten sposób ma charakterystyczne brązowe zabarwienie. Obecnie coraz powszechniejsza jest symulacja sepii przy użyciu metod cyfrowych, szczególnie w fotografii artystycznej."
   ],
   "metadata": {
    "collapsed": false
   }
  },
  {
   "cell_type": "markdown",
   "source": [
    "![lena_grayscale](img/sepia.jpg \"Obraz w sepii\")"
   ],
   "metadata": {
    "collapsed": false
   }
  },
  {
   "cell_type": "markdown",
   "source": [
    "Konwersja obrazu z modelu barw RGB (obraz 3-warstwowy) do sepii polega na dokonaniu w pierwszej kolejności tranformacji do skali szarości (obraz 2-warstwowy). Następnie należy ułożyć stos 3 warstw z obrazów 2 warstwowych (tensor 3-wymiarowy), gdzie L0, L1 i L2 będą reprezentowały kolejne warstwy. Wówczas uzyskanie sepii polega na wyborze jednej z dwóch możliwości. Dla każdego piksela każdej warstwy:\n",
    "1.\n",
    "    - L0 = L0 * $\\alpha$\n",
    "    - L1 = L1\n",
    "    - L2 = L2 * $\\beta$\n",
    "    gdzie $\\alpha > 1$ oraz $\\beta < 1$: $\\alpha + \\beta = 2$ oznaczają hiperparametry transformacji dobierane empirycznie\n",
    "2. lub\n",
    "    - L0 = L0 + 2 * W\n",
    "    - L1 = L1 + W\n",
    "    - L2 = L2\n",
    "    gdzie W $ \\in <20;40>$ oznacza hiperparametr transformacji dobierany empirycznie\n",
    "\n",
    "Po dokonaniu jednej z powyższych transformacji wynikowy tensor 3-wymiarowy będzie zawierał obraz z modelu barw RGB z zastosowanym efektem sepii."
   ],
   "metadata": {
    "collapsed": false
   }
  },
  {
   "cell_type": "markdown",
   "source": [
    "| $\\alpha = 1.1, \\beta = 0.9 $         | $\\alpha = 1.5, \\beta = 0.5 $         | $\\alpha = 1.9, \\beta = 0.1 $         |\n",
    "|--------------------------------------|--------------------------------------|--------------------------------------|\n",
    "| ![lena_sepia_0](img/sepia_11_09.jpg) | ![lena_sepia_1](img/sepia_15_05.jpg) | ![lena_sepia_1](img/sepia_19_01.jpg) |"
   ],
   "metadata": {
    "collapsed": false
   }
  },
  {
   "cell_type": "markdown",
   "source": [
    "| w = 20                               | w = 30                              | w = 40                              |\n",
    "|--------------------------------------|-------------------------------------|-------------------------------------|\n",
    "| ![lena_sepia_w20](img/sepia_20.jpg)  | ![lena_sepia_w20](img/sepia_30.jpg) | ![lena_sepia_w20](img/sepia_40.jpg) |"
   ],
   "metadata": {
    "collapsed": false
   }
  },
  {
   "cell_type": "markdown",
   "source": [
    "## Zadania\n",
    "\n",
    "Przygotować zestaw klas według następującego schematu:"
   ],
   "metadata": {
    "collapsed": false
   }
  },
  {
   "cell_type": "code",
   "execution_count": null,
   "metadata": {
    "collapsed": true
   },
   "outputs": [],
   "source": [
    "class GrayScaleTransform(BaseImage):\n",
    "    def __init__(self, ...) -> None:\n",
    "        pass\n",
    "\n",
    "    def to_gray(self) -> BaseImage:\n",
    "        \"\"\"\n",
    "        metoda zwracajaca obraz w skali szarosci jako obiekt klasy BaseImage\n",
    "        \"\"\"\n",
    "        pass\n",
    "\n",
    "    def to_sepia(self, alpha_beta: tuple = (None, None), w: int = None) -> BaseImage:\n",
    "        \"\"\"\n",
    "        metoda zwracajaca obraz w sepii jako obiekt klasy BaseImage\n",
    "        sepia tworzona metoda 1 w przypadku przekazania argumentu alpha_beta\n",
    "        lub metoda 2 w przypadku przekazania argumentu w\n",
    "        \"\"\"\n",
    "        pass"
   ]
  },
  {
   "cell_type": "code",
   "execution_count": null,
   "outputs": [],
   "source": [
    "class Image(GrayScaleTransform):\n",
    "    \"\"\"\n",
    "    klasa stanowiaca glowny interfejs biblioteki\n",
    "    w pozniejszym czasie bedzie dziedziczyla po kolejnych klasach\n",
    "    realizujacych kolejne metody przetwarzania obrazow\n",
    "    \"\"\"\n",
    "    def __init__(self, ...) -> None:\n",
    "        pass"
   ],
   "metadata": {
    "collapsed": false
   }
  },
  {
   "cell_type": "markdown",
   "source": [
    "Podczas zwracania obiektów po dokonaniu w metodach dowolnych metod przetwarzania należy używać dynamicznego odwołania do klasy w postaci"
   ],
   "metadata": {
    "collapsed": false
   }
  },
  {
   "cell_type": "code",
   "execution_count": null,
   "outputs": [],
   "source": [
    "self.__class__"
   ],
   "metadata": {
    "collapsed": false
   }
  },
  {
   "cell_type": "markdown",
   "source": [
    "co pozwoli znacznie uspójnić interfejs biblioteki."
   ],
   "metadata": {
    "collapsed": false
   }
  },
  {
   "cell_type": "code",
   "execution_count": null,
   "outputs": [],
   "source": [],
   "metadata": {
    "collapsed": false
   }
  }
 ],
 "metadata": {
  "kernelspec": {
   "display_name": "Python 3",
   "language": "python",
   "name": "python3"
  },
  "language_info": {
   "codemirror_mode": {
    "name": "ipython",
    "version": 2
   },
   "file_extension": ".py",
   "mimetype": "text/x-python",
   "name": "python",
   "nbconvert_exporter": "python",
   "pygments_lexer": "ipython2",
   "version": "2.7.6"
  }
 },
 "nbformat": 4,
 "nbformat_minor": 0
}
