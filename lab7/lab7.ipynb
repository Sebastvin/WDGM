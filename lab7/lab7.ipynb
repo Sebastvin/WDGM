{
 "cells": [
  {
   "cell_type": "markdown",
   "source": [
    "# Binaryzacja obrazu"
   ],
   "metadata": {
    "collapsed": false
   }
  },
  {
   "cell_type": "markdown",
   "source": [
    "Binaryzacja jest jedną z metod segmentacji obrazów polegającą na przetwarzaniu obrazów kolorowych lub monochromatycznych (w odcieniach szarości) do obrazu dychotomicznego (binarnego). Przeprowadzenie binaryzacji na obrazie w znaczny sposób redukuje ilość zawartej w nim informacji. Binaryzacja najczęściej realizowana jest za pomocą progowania, które polega na ustaleniu wartości progowej, poniżej której piksele obrazu klasyfikowane są jako piksele obiektu, natomiast pozostałe piksele klasyfikowane są jako piksele tła (nie-obiekt)."
   ],
   "metadata": {
    "collapsed": false
   }
  },
  {
   "cell_type": "markdown",
   "source": [
    "## Segmentacja obrazu"
   ],
   "metadata": {
    "collapsed": false
   }
  },
  {
   "cell_type": "markdown",
   "source": [
    "![segmentacja](img_segment.jpg \"segmentacja\")"
   ],
   "metadata": {
    "collapsed": false
   }
  },
  {
   "cell_type": "markdown",
   "source": [
    "Segmentacja obrazu - proces podziału obrazu na części (obszary, regiony), które są jednorodne (homogeniczne) pod względem pewnych wybranych własności. Obszarami są pewne zbiory pikseli. Spośród często wybieranych własności można wyróżnic: poziom szarości, nasycenie barwą, tekstura.\n",
    "Obraz poddany procesowi segmentacji jest uproszczony względem obrazu oryginalnego. Nie zawiera wielu szczegółowych informacji występujących w oryginalnym obrazie. Podobna sytuacja zachodzi także w przypadku wykrywania krawędzi w obrazie.\n",
    "Segmentacja obrazów uważana jest często za jeden z najtrudniejszych i równocześnie najważniejszych problemów wizji komputerowej."
   ],
   "metadata": {
    "collapsed": false
   }
  },
  {
   "cell_type": "markdown",
   "source": [
    "## Operacja binaryzacji (progowania)\n",
    "\n",
    "Klasyczne progowanie można przeprowadzić następująco:\n",
    "$$f(r, c) =\n",
    "\\begin{cases}\n",
    "      0, & \\text{gdy}\\ f(r, c) < p \\\\\n",
    "      255, & \\text{gdy}\\ f(r, c) \\geq p\n",
    "\\end{cases}$$\n",
    "\n",
    "gdzie:\n",
    "- $f$ - obraz\n",
    "- $r, c$ - współrzędne piksela na obrazie\n",
    "- $p$ - wartość progu"
   ],
   "metadata": {
    "collapsed": false
   }
  },
  {
   "cell_type": "markdown",
   "source": [
    "W zależności od charakteru obrazu pikselom obiektów nadaje się wartość minimalną, pikselom tła wartość maksymalną"
   ],
   "metadata": {
    "collapsed": false
   }
  },
  {
   "cell_type": "markdown",
   "source": [
    "### Przykłady binaryzacji"
   ],
   "metadata": {
    "collapsed": false
   }
  },
  {
   "cell_type": "markdown",
   "source": [
    "| Obraz oryginalny                       | p = 30                                 | p = 70                                 | p = 127                                   | p = 170                                   | p = 220                                   |\n",
    "|----------------------------------------|----------------------------------------|----------------------------------------|-------------------------------------------|-------------------------------------------|-------------------------------------------|\n",
    "| ![lena_gray](img/lena_gray.jpg \"gray\") | ![lena_th_30](img/lena_30.jpg \"th 30\") | ![lena_th_70](img/lena_70.jpg \"th 70\") | ![lena_th_127](img/lena_127.jpg \"th 127\") | ![lena_th_170](img/lena_170.jpg \"th 170\") | ![lena_th_220](img/lena_220.jpg \"th 220\") |"
   ],
   "metadata": {
    "collapsed": false
   }
  },
  {
   "cell_type": "markdown",
   "source": [
    "## Zadania\n",
    "\n",
    "1. Przygotować implementację klas według następującego schematu:"
   ],
   "metadata": {
    "collapsed": false
   }
  },
  {
   "cell_type": "code",
   "execution_count": null,
   "metadata": {
    "collapsed": true,
    "pycharm": {
     "is_executing": true
    }
   },
   "outputs": [],
   "source": [
    "class Thresholding(BaseImage):\n",
    "    def threshold(self, value: int) -> BaseImage:\n",
    "        \"\"\"\n",
    "        metoda dokonujaca operacji segmentacji za pomoca binaryzacji\n",
    "        \"\"\"\n",
    "        pass"
   ]
  },
  {
   "cell_type": "code",
   "execution_count": null,
   "outputs": [],
   "source": [
    "class Image(GrayScaleTransform, ImageComparison, ImageAligning, ImageFiltration, Thresholding):\n",
    "    \"\"\"\n",
    "    interfejs glowny biblioteki c.d.\n",
    "    \"\"\"\n",
    "    pass"
   ],
   "metadata": {
    "collapsed": false
   }
  },
  {
   "cell_type": "markdown",
   "source": [
    "## Dodatek\n",
    "\n",
    "Środowisko Jupyter umożliwia tworzenie prostych interfejsów użytkownika za pomocą pakietu ipywidgets. Mając na uwadze fakt, że operacja binaryzacji może być parametryzowana za pomocą wartości p, prosty intteraktywny widget ułatwi w znacznym stopniu jego wybór."
   ],
   "metadata": {
    "collapsed": false
   }
  },
  {
   "cell_type": "markdown",
   "source": [
    "Przykład dla funkcji wyświetlającej tekst. Taki przykład może być z powodzeniem zaadaptowany w procesie interaktywnego wyświetlania obrazów przy różnych wartościach progów."
   ],
   "metadata": {
    "collapsed": false
   }
  },
  {
   "cell_type": "code",
   "execution_count": null,
   "outputs": [],
   "source": [
    "from ipywidgets import interact"
   ],
   "metadata": {
    "collapsed": false
   }
  },
  {
   "cell_type": "code",
   "execution_count": null,
   "outputs": [],
   "source": [
    "def test_print(first: int, second: str) -> None:\n",
    "  print(f'First param: {first}, second param: {second}')"
   ],
   "metadata": {
    "collapsed": false
   }
  },
  {
   "cell_type": "code",
   "execution_count": null,
   "outputs": [],
   "source": [
    "interact(test_print, first=range(1, 11), second=['one', 'two'])"
   ],
   "metadata": {
    "collapsed": false
   }
  }
 ],
 "metadata": {
  "kernelspec": {
   "display_name": "Python 3",
   "language": "python",
   "name": "python3"
  },
  "language_info": {
   "codemirror_mode": {
    "name": "ipython",
    "version": 2
   },
   "file_extension": ".py",
   "mimetype": "text/x-python",
   "name": "python",
   "nbconvert_exporter": "python",
   "pygments_lexer": "ipython2",
   "version": "2.7.6"
  }
 },
 "nbformat": 4,
 "nbformat_minor": 0
}
