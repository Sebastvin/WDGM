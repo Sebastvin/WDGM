{
 "cells": [
  {
   "cell_type": "markdown",
   "source": [
    "# Lab 5 - wyrównywanie histogramów i korekcja barw"
   ],
   "metadata": {
    "collapsed": false
   }
  },
  {
   "cell_type": "markdown",
   "source": [
    "Wyrównywanie histogramów to jedna z metod przetwarzania obrazów umożliwiająca korekcję kontrastu oraz nasycenia poszczególnych barw w sytuacjach gdy sygnał definiujący obraz przyjmuje niewielki zakres wartości. Stosująć rozciągnięcie tych wartości na szerszy zakres, nasycenia pikseli mogą być lepiej dystrybuowane na histogramie. Pozwala to zwiększyć kontrast we fragmentach o jego niskim poziomie."
   ],
   "metadata": {
    "collapsed": false
   }
  },
  {
   "cell_type": "markdown",
   "source": [
    "| ![hist_lena_original](img/hist_lena_original.png) | ![hist_lena_align](img/hist_lena_align.png) |"
   ],
   "metadata": {
    "collapsed": false
   }
  },
  {
   "cell_type": "markdown",
   "source": [
    "Transformację wyrównującą histogram obrazu można dokonać stosując dla każdego piksela obrazu w skali szarości następujące wyrażenie:\n",
    "$$f(r, c) = (f(r, c) - min(f)) \\cdot \\frac{255}{max(f) - min(f)}$$\n",
    "\n",
    "gdzie $f(r, c)$ oznacza nasycenie piksela na obrazie $f$ o pozycji $r, c$"
   ],
   "metadata": {
    "collapsed": false
   }
  },
  {
   "cell_type": "markdown",
   "source": [
    "Operacje rozszerzania histogramów można stosować także na obrazach kolorowych stosując powyższą transformację na każdej warstwie z osobna. Nie istnieje jednak żadna gwarancja, że operacja ta przyniesie pożądany efekt. Odwrotnie, może powodować znaczne zmiany w balansie kolorów obrazu, gdyż odseparowane przetwarzanie składowych warstw spowoduje zmiany w stosunkach wartości poszczególnych kanałów."
   ],
   "metadata": {
    "collapsed": false
   }
  },
  {
   "cell_type": "markdown",
   "source": [
    "## Eliminacja ogonów"
   ],
   "metadata": {
    "collapsed": false
   }
  },
  {
   "cell_type": "markdown",
   "source": [
    "Eliminacja ogonów to modyfikacja metody wyrównywania histogramów zapewniająca bardziej równomierne nasycenie barw. Zastosowanie metody eliminującej ogony polega na odrzuceniu po 5% pikseli o skrajnie najmniejszych i największych wartościach. Do wyznaczenia granic (tj. kwantyli 5% oraz 95%) służy histogram skumulowany, w którym na osi pionowej przedstawia się skumulowane liczebności występujące wcześniej na osi X. Histogram skumulowany można wyznaczyć następująco:\n",
    "$$ H_{s}[i] = \\sum_{j=1}^{i} H[j] $$\n",
    "\n",
    "gdzie:\n",
    "- $H$ oznacza histogram obrazu\n",
    "- $H_s$ oznacza histogram skumulowany na podstawie histogramu $H$"
   ],
   "metadata": {
    "collapsed": false
   }
  },
  {
   "cell_type": "markdown",
   "source": [
    "W celu wyeliminowania ogonów należy wyznaczyć wartości $max_{tail}$ oraz $min_{tail}$, które zastąpią dotychczasowe wartości $max(f)$ oraz $min(f)$. Wartości te należy znaleźć za pomocą histogramu skumulowanego, gdzie $max_{tail}$ będzie taką wartością piksela, poniżej której znajdzie się 95% wartości z histogramu skumulowanego, a $min_{tail}$ - 5%."
   ],
   "metadata": {
    "collapsed": false
   }
  },
  {
   "cell_type": "markdown",
   "source": [
    "## Przykłady"
   ],
   "metadata": {
    "collapsed": false
   }
  },
  {
   "cell_type": "markdown",
   "source": [
    "| RTG płuca w skali szarości    | RTG płuca po wyrównaniu histogramu  | RTG płuca po wyrównaniu histogramu           |\n",
    "|-------------------------------|-------------------------------------|----------------------------------------------|\n",
    "| ![lena_sepia_0](img/lung.jpg) | ![lena_sepia_1](img/lung_align.jpg) | ![lena_sepia_1](img/lung_align_quantile.jpg) |"
   ],
   "metadata": {
    "collapsed": false
   }
  },
  {
   "cell_type": "markdown",
   "source": [
    "| RTG lędźwi w skali szarości  | RTG lędźwi po wyrównaniu histogramu  | RTG lędźwi po wyrównaniu histogramu         |\n",
    "|------------------------------|--------------------------------------|---------------------------------------------|\n",
    "| ![lena_sepia_0](img/rtg.jpg) | ![lena_sepia_1](img/rtg_align-2.jpg) | ![lena_sepia_1](img/rtg_align_quantile.jpg) |"
   ],
   "metadata": {
    "collapsed": false
   }
  },
  {
   "cell_type": "markdown",
   "source": [
    "| Lena                       | Lena po wyrównaniu histogramu | Lena po wyrównaniu histogramu z eliminacją ogonów |\n",
    "|----------------------------|-------------------------------|---------------------------------------------------|\n",
    "| ![img_0](../data/lena.jpg) | ![img_1](img/lena_align.jpg)  | ![img_2](img/lena_align_quantile.jpg)             |"
   ],
   "metadata": {
    "collapsed": false
   }
  },
  {
   "cell_type": "markdown",
   "source": [
    "| Niewyraźne zdjęcie dna oka (fundus) | Fundus po wyrównaniu histogramu | Fundus po wyrównaniu histogramu z eliminacją ogonów |\n",
    "|-------------------------------------|---------------------------------|-----------------------------------------------------|\n",
    "| ![img_0](img/fundus.jpeg)           | ![img_1](img/fundus_align.jpg)  | ![img_2](img/fundus_align_quantile.jpg)             |"
   ],
   "metadata": {
    "collapsed": false
   }
  },
  {
   "cell_type": "markdown",
   "source": [
    "## Zadania"
   ],
   "metadata": {
    "collapsed": false
   }
  },
  {
   "cell_type": "markdown",
   "source": [
    "Przygotować implementację klas według następującego schematu"
   ],
   "metadata": {
    "collapsed": false
   }
  },
  {
   "cell_type": "code",
   "execution_count": 1,
   "metadata": {
    "collapsed": true
   },
   "outputs": [],
   "source": [
    "class Histogram:\n",
    "    \"\"\"\n",
    "    kontunuacja implementacji klasy\n",
    "    \"\"\"\n",
    "\n",
    "    def to_cumulated(self) -> 'Histogram':\n",
    "        \"\"\"\n",
    "        metoda zwracajaca histogram skumulowany na podstawie stanu wewnetrznego obiektu\n",
    "        \"\"\"\n",
    "        pass"
   ]
  },
  {
   "cell_type": "code",
   "execution_count": null,
   "outputs": [],
   "source": [
    "class ImageAligning(BaseImage):\n",
    "    \"\"\"\n",
    "    klasa odpowiadająca za wyrównywanie hostogramu\n",
    "    \"\"\"\n",
    "    def __init__(self) -> None:\n",
    "        \"\"\"\n",
    "        inicjalizator ...\n",
    "        \"\"\"\n",
    "        pass\n",
    "\n",
    "    def align_image(self, tail_elimination: bool = True) -> 'BaseImage':\n",
    "        \"\"\"\n",
    "        metoda zwracajaca poprawiony obraz metoda wyrownywania histogramow\n",
    "        \"\"\""
   ],
   "metadata": {
    "collapsed": false
   }
  },
  {
   "cell_type": "code",
   "execution_count": null,
   "outputs": [],
   "source": [
    "class Image(GrayScaleTransform, ImageComparison, ImageAligning):\n",
    "    \"\"\"\n",
    "    interfejs glownej klasy biblioteki c.d.\n",
    "    \"\"\"\n",
    "    pass"
   ],
   "metadata": {
    "collapsed": false
   }
  }
 ],
 "metadata": {
  "kernelspec": {
   "display_name": "Python 3",
   "language": "python",
   "name": "python3"
  },
  "language_info": {
   "codemirror_mode": {
    "name": "ipython",
    "version": 2
   },
   "file_extension": ".py",
   "mimetype": "text/x-python",
   "name": "python",
   "nbconvert_exporter": "python",
   "pygments_lexer": "ipython2",
   "version": "2.7.6"
  }
 },
 "nbformat": 4,
 "nbformat_minor": 0
}
