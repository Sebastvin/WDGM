{
 "cells": [
  {
   "cell_type": "markdown",
   "source": [
    "# Lab 4 - histogramy i podobieństwo obrazów"
   ],
   "metadata": {
    "collapsed": false
   }
  },
  {
   "cell_type": "markdown",
   "source": [
    "Histogram jest metodą graficznej reprezentacji rozkładuempirycznegi cechy. Może być przedstawiany jako wykres liniowy lub słupkowy. Na osi X (poziomej) histogramu przedstawiane jest nasycenie poszczególnej warstwy, a na osi Y znajduje się liczba pikseli z takim nasyceniem."
   ],
   "metadata": {
    "collapsed": false
   }
  },
  {
   "cell_type": "markdown",
   "source": [
    "![lena_hist](img/hist.png \"Histogram obrazu 3-warstwowego\")\n"
   ],
   "metadata": {
    "collapsed": false
   }
  },
  {
   "cell_type": "markdown",
   "source": [
    "Na powyższej wizualizacji możemy zauważyć histogram obrazu kolorowego (3-warstwowego), gdzie rozkład pikseli każdej warstwy przedstawiono na oddzielnym wykresie.\n",
    "\n",
    "Analogicznie, obraz w skali szarości będzie reprezentowany przez histogram (jeden) obrazujący tylko jedną warstwę."
   ],
   "metadata": {
    "collapsed": false
   }
  },
  {
   "cell_type": "markdown",
   "source": [
    "## Podobieństwo obrazów"
   ],
   "metadata": {
    "collapsed": false
   }
  },
  {
   "cell_type": "markdown",
   "source": [
    "Istnieje wiele metod przeznaczonych do wyznaczania podobieństwa obrazów. Wśród podejść statystycznych możemy wyróżnić te, które bazują na hisgogramach. Oznacza to, że podobieństwo obrazów jest mierzone na podstawie ich histogramów. Jedynym warunkiem, jaki należy spełnić, jest identyczna liczebność pikseli w obrazach (takie samy wymiary oraz model barw).\n",
    "\n",
    "Podejścia statystyczne nie zapewniają jednak dokładnych wyników porównania obrazów. Metody te jednak cechują się mniejszą złożonością obliczeniową wpływającą na wydajność algorytmu."
   ],
   "metadata": {
    "collapsed": false
   }
  },
  {
   "cell_type": "markdown",
   "source": [
    "### MSE\n",
    "\n",
    "Mean Squared Error (MSE) to miara niepodobieństwa (różnicy) dwóch tensorów. Im mniejszą wartość przyjmuje MSE, tym obydwa tensory są do siebie bardziej podobne.\n",
    "\n",
    "Niech $X$ oraz $Y$ będą dwoma obrazami. Wówczas $X_{hist}$ oraz $Y_{hist}$ będą histogramami obrazów odpowiednio $X$ oraz $Y$ przetransformowanymi do skali szarości. Różnicę między dwoma obrazami można wyznaczyć następująco:\n",
    "\n",
    "$$MSE(X_{hist}, Y_{hist}) = \\frac{1}{n}\\sum_{i=1}^{n}(X_{hist}[i] - Y_{hist}[i])^2$$\n",
    "\n",
    "gdzie $n$ oznacza liczbę wartości poszczególnej warstwy - w przypadku RGB 256.\n",
    "\n",
    "### RMSE\n",
    "Root Mean Squared Error (RMSE) to to miara niepodobieństwa dwóch tensorów, która podobnie jak MSE, jest odwrotnie proporcjonalna do podobieństwa. RMSE stanowi pierwiastek kwadratowy z MSE, co można wyrazić następująco:\n",
    "\n",
    "$$RMSE(X_{hist}, Y_{hist}) = \\sqrt{\\frac{1}{n}\\sum_{i=1}^{n}(X_{hist}[i] - Y_{hist}[i])^2}$$"
   ],
   "metadata": {
    "collapsed": false
   }
  },
  {
   "cell_type": "markdown",
   "source": [
    "Kiedy używać MSE, a kiedt RMSE? Nie ma w tym przypadku jednoznacznej reguły. Obie metody są do siebie podobne i realizują ten sam cel. Podczas korzystania z MSE warto jednak pamiętać, że różnice podnoszone są do kwadratu, co może zwiększać wynik dla dużych różnic na pozycji i-tej obydwu wektorów. W przypadku RMSE zastosowanie pierwiastka kwadratowego niweluje skalę kary przydzielanej dla dużych różnic."
   ],
   "metadata": {
    "collapsed": false
   }
  },
  {
   "cell_type": "markdown",
   "source": [
    "## Zadania"
   ],
   "metadata": {
    "collapsed": false
   }
  },
  {
   "cell_type": "markdown",
   "source": [
    "Przygotować zestaw klas według następującego schematu:"
   ],
   "metadata": {
    "collapsed": false
   }
  },
  {
   "cell_type": "code",
   "execution_count": null,
   "outputs": [],
   "source": [
    "class Histogram:\n",
    "    \"\"\"\n",
    "    klasa reprezentujaca histogram danego obrazu\n",
    "    \"\"\"\n",
    "    values: np.ndarray  # atrybut przechowujacy wartosci histogramu danego obrazu\n",
    "\n",
    "    def __init__(self, values: np.ndarray) -> None:\n",
    "        pass\n",
    "\n",
    "    def plot(self) -> None:\n",
    "        \"\"\"\n",
    "        metoda wyswietlajaca histogram na podstawie atrybutu values\n",
    "        \"\"\"\n",
    "        pass"
   ],
   "metadata": {
    "collapsed": false
   }
  },
  {
   "cell_type": "code",
   "execution_count": null,
   "outputs": [],
   "source": [
    "from enum import Enum\n",
    "\n",
    "\n",
    "class ImageDiffMethod(Enum):\n",
    "    mse = 0\n",
    "    rmse = 1"
   ],
   "metadata": {
    "collapsed": false
   }
  },
  {
   "cell_type": "code",
   "execution_count": null,
   "metadata": {
    "collapsed": true
   },
   "outputs": [],
   "source": [
    "class ImageComparison(BaseImage):\n",
    "    \"\"\"\n",
    "    Klasa reprezentujaca obraz, jego histogram oraz metody porównania\n",
    "    \"\"\"\n",
    "\n",
    "    def histogram(self) -> Histogram:\n",
    "        \"\"\"\n",
    "        metoda zwracajaca obiekt zawierajacy histogram biezacego obrazu (1- lub wielowarstwowy)\n",
    "        \"\"\"\n",
    "        pass\n",
    "\n",
    "    def compare_to(self, other: Image, method: ImageDiffMethod) -> float:\n",
    "        \"\"\"\n",
    "        metoda zwracajaca mse lub rmse dla dwoch obrazow\n",
    "        \"\"\"\n",
    "        pass"
   ]
  },
  {
   "cell_type": "code",
   "execution_count": null,
   "outputs": [],
   "source": [
    "class Image(GrayScaleTransform, ImageComparison):\n",
    "    pass"
   ],
   "metadata": {
    "collapsed": false
   }
  }
 ],
 "metadata": {
  "kernelspec": {
   "display_name": "Python 3",
   "language": "python",
   "name": "python3"
  },
  "language_info": {
   "codemirror_mode": {
    "name": "ipython",
    "version": 2
   },
   "file_extension": ".py",
   "mimetype": "text/x-python",
   "name": "python",
   "nbconvert_exporter": "python",
   "pygments_lexer": "ipython2",
   "version": "2.7.6"
  }
 },
 "nbformat": 4,
 "nbformat_minor": 0
}
